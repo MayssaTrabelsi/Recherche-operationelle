{
 "cells": [
  {
   "attachments": {},
   "cell_type": "markdown",
   "metadata": {},
   "source": [
    "# LE MYSTÉRIEUX TRÉSOR DU PRINCE SOLTYKOFF"
   ]
  },
  {
   "cell_type": "code",
   "execution_count": 12,
   "metadata": {},
   "outputs": [],
   "source": [
    "#Nous allons créer un dictionnaire pour représenter le graphe\n",
    "graph = {\n",
    "\n",
    "'Départ':{'Marché':4,\n",
    "          'Foret':1},\n",
    "'Foret':{'Marché':2,\n",
    "          'Capital':7},\n",
    "'Marché':{'Col':5,\n",
    "          'Capital':3},\n",
    "'Col':{'Refuge':3},\n",
    "'Capital':{'Refuge':4,\n",
    "           'Palais':10},\n",
    "'Refuge':{'Epee':20,\n",
    "          'Grotte':32,\n",
    "          'Palais':5},\n",
    "'Palais':{'Carte':6},\n",
    "'Carte':{'Tresor':30,\n",
    "         'Epee':7},\n",
    "'Epee':{'Grotte':8, \n",
    "        'Tresor':18},\n",
    "'Grotte':{'Tresor':9},\n",
    "'Tresor':{'Grotte':1}\n",
    "}"
   ]
  },
  {
   "cell_type": "code",
   "execution_count": 13,
   "metadata": {},
   "outputs": [
    {
     "data": {
      "text/plain": [
       "{'Départ': {'Marché': 4, 'Foret': 1},\n",
       " 'Foret': {'Marché': 2, 'Capital': 7},\n",
       " 'Marché': {'Col': 5, 'Capital': 3},\n",
       " 'Col': {'Refuge': 3},\n",
       " 'Capital': {'Refuge': 4, 'Palais': 10},\n",
       " 'Refuge': {'Epee': 20, 'Grotte': 32, 'Palais': 5},\n",
       " 'Palais': {'Carte': 6},\n",
       " 'Carte': {'Tresor': 30, 'Epee': 7},\n",
       " 'Epee': {'Grotte': 8, 'Tresor': 18},\n",
       " 'Grotte': {'Tresor': 9},\n",
       " 'Tresor': {'Grotte': 1}}"
      ]
     },
     "execution_count": 13,
     "metadata": {},
     "output_type": "execute_result"
    }
   ],
   "source": [
    "graph"
   ]
  },
  {
   "cell_type": "code",
   "execution_count": 14,
   "metadata": {},
   "outputs": [
    {
     "name": "stdout",
     "output_type": "stream",
     "text": [
      "Shortest distance is 45\n",
      "And the path is ['Départ', 'Foret', 'Marché', 'Capital', 'Refuge', 'Palais', 'Carte', 'Epee', 'Grotte', 'Tresor']\n"
     ]
    }
   ],
   "source": [
    "def dijkstra(graph,start,goal):\n",
    "\n",
    "    shortest_distance = {} #dictionnaire pour enregistrer le poids pour atteindre le nœud.\n",
    "    #Nous mettrons constamment à jour ce dictionnaire au fur et à mesure que nous avancerons dans le graphe.\n",
    "    track_predecessor = {} #dictionnaire pour garder une trace du chemin qui a conduit à ce nœud\n",
    "    unseenNodes = graph #pour parcourir tous les nœuds\n",
    "    infinity = 5000 #l'infini peut être considéré comme un très grand nombre\n",
    "    track_path = [] #dictionnaire pour enregistrer pendant que nous remontons notre voyage\n",
    "\n",
    "\n",
    "\n",
    "# =============================================================================\n",
    "# Initialement, nous voulons attribuer 0 comme poids à atteindre au nœud source et l'infini comme poids à tous les autres nœuds\n",
    "# =============================================================================\n",
    "\n",
    "    for node in unseenNodes:\n",
    "        shortest_distance[node] = infinity\n",
    "\n",
    "    shortest_distance[start] = 0\n",
    "\n",
    "# =============================================================================\n",
    "# La boucle continuera de fonctionner jusqu'à ce que nous ayons complètement épuisé le graphe, \n",
    "#jusqu'à ce que nous ayons vu tous les nœuds\n",
    "# =============================================================================\n",
    "# =============================================================================\n",
    "# Pour parcourir le graphique, nous devons à chaque fois déterminer le min_distance_node.\n",
    "# =============================================================================\n",
    "\n",
    "    while unseenNodes:\n",
    "        min_distance_node = None\n",
    "\n",
    "        for node in unseenNodes:\n",
    "            if min_distance_node is None:\n",
    "                min_distance_node = node\n",
    "\n",
    "            elif shortest_distance[node] < shortest_distance[min_distance_node]:\n",
    "                min_distance_node = node\n",
    "\n",
    "# =============================================================================\n",
    "# A partir du nœud minimum, quels sont nos chemins possibles\n",
    "# =============================================================================\n",
    "\n",
    "        path_options = graph[min_distance_node].items()\n",
    "\n",
    "\n",
    "# =============================================================================\n",
    "# Nous devons calculer le poids à chaque fois pour chaque chemin que nous empruntons et le mettre à jour \n",
    "#uniquement s'il est inférieur au poids existant\n",
    "# =============================================================================\n",
    "\n",
    "        for child_node, weight in path_options:\n",
    "\n",
    "            if weight + shortest_distance[min_distance_node] < shortest_distance[child_node]:\n",
    "\n",
    "                shortest_distance[child_node] = weight + shortest_distance[min_distance_node]\n",
    "\n",
    "                track_predecessor[child_node] = min_distance_node\n",
    "\n",
    "# =============================================================================\n",
    "# Nous voulons faire ressortir les nœuds que nous venons de visiter afin de ne plus les parcourir.\n",
    "# =============================================================================\n",
    "        unseenNodes.pop(min_distance_node)\n",
    "\n",
    "\n",
    "\n",
    "# =============================================================================\n",
    "# Une fois que nous avons atteint le nœud de destination, nous voulons remonter notre chemin\n",
    "#et calculer le poids total accumulé\n",
    "# =============================================================================\n",
    "\n",
    "    currentNode = goal\n",
    "\n",
    "    while currentNode != start:\n",
    "\n",
    "        try:\n",
    "            track_path.insert(0,currentNode)\n",
    "            currentNode = track_predecessor[currentNode]\n",
    "        except KeyError:\n",
    "            print('Path not reachable')\n",
    "            break\n",
    "    track_path.insert(0,start)\n",
    "\n",
    "\n",
    "# =============================================================================\n",
    "# Si le poids est infini, le nœud n'a pas été atteint.\n",
    "# =============================================================================\n",
    "    if shortest_distance[goal] != infinity:\n",
    "        print('Shortest distance is ' + str(shortest_distance[goal]))\n",
    "        print('And the path is ' + str(track_path))\n",
    "\n",
    "\n",
    "dijkstra(graph, 'Départ', 'Tresor')"
   ]
  },
  {
   "cell_type": "markdown",
   "metadata": {},
   "source": [
    "# MERCI POUR VOTRE ATTENTION!"
   ]
  }
 ],
 "metadata": {
  "kernelspec": {
   "display_name": "Python 3",
   "language": "python",
   "name": "python3"
  },
  "language_info": {
   "codemirror_mode": {
    "name": "ipython",
    "version": 3
   },
   "file_extension": ".py",
   "mimetype": "text/x-python",
   "name": "python",
   "nbconvert_exporter": "python",
   "pygments_lexer": "ipython3",
   "version": "3.7.4"
  }
 },
 "nbformat": 4,
 "nbformat_minor": 2
}
